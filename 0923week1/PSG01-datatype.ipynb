{
 "cells": [
  {
   "cell_type": "markdown",
   "metadata": {},
   "source": [
    "# 快捷鍵\n",
    "```\n",
    "綠色 --> 編輯模式\n",
    "藍色 --> 命令模式\n",
    "\n",
    "編輯模式下 :\n",
    "   ctrl + 左 --> 跳到該行最左\n",
    "   ctrl + 右 --> 跳到該行最右\n",
    "   shift + 左 --> 往左選\n",
    "   shift + 右 --> 往右選\n",
    "命令模式下 : \n",
    "   enter --> 編輯cell(轉成編輯模式)\n",
    "   a --> 在上方加cell\n",
    "   b --> 在下方加cell\n",
    "   dd --> 刪除目前cell\n",
    "   x --> 剪下目前的cell\n",
    "   v --> 在下方貼上剪下的cell\n",
    "   shift + v --> 在上方貼上剪下的cell\n",
    "   shift + m --> 合併目前cell和下方cell\n",
    "命令跟編輯模式都可用 :   \n",
    "   shift + enter --> 執行現在的cell然後跳到下一格，下一格會變成編輯模式\n",
    "   ctrl + enter --> 執行現在的cell\n",
    "其他 :\n",
    "   tab , shift + tab\n",
    "```"
   ]
  },
  {
   "cell_type": "markdown",
   "metadata": {},
   "source": [
    "# 基本運算\n",
    "```\n",
    "加減乘除都一樣\n",
    "x // y\tX除以Y的商\n",
    "x % y\t X除以Y的餘數\n",
    "x ** y\tX的Y次方\n",
    "```"
   ]
  },
  {
   "cell_type": "markdown",
   "metadata": {},
   "source": [
    "# 資料型態\n",
    "```\n",
    "數值型態：int, float, bool\n",
    "字串型態：str\n",
    "容器型態：tuple, set, list, dict\n",
    "type() 看型態\n",
    "```"
   ]
  },
  {
   "cell_type": "code",
   "execution_count": 1,
   "metadata": {},
   "outputs": [
    {
     "name": "stdout",
     "output_type": "stream",
     "text": [
      "type of int <class 'int'>\n",
      "type of float <class 'float'>\n",
      "type of bool <class 'bool'>\n",
      "type of str <class 'str'>\n",
      "type of tuple <class 'tuple'>\n",
      "type of set <class 'set'>\n",
      "type of list <class 'list'>\n",
      "type of dict <class 'dict'>\n"
     ]
    }
   ],
   "source": [
    "#type\n",
    "print('type of int', type(3) )\n",
    "print('type of float', type(3.0) )\n",
    "print('type of bool', type(True) )\n",
    "print('type of str', type('aaa') )\n",
    "print('type of tuple', type((2, 3)) )\n",
    "print('type of set', type({1, 2, 3}) )\n",
    "print('type of list', type([1, 2, 3]) )\n",
    "print('type of dict', type({'a':3}) )"
   ]
  },
  {
   "cell_type": "code",
   "execution_count": 2,
   "metadata": {},
   "outputs": [
    {
     "name": "stdout",
     "output_type": "stream",
     "text": [
      "3 <class 'str'>\n",
      "3 <class 'int'>\n",
      "3 <class 'int'>\n"
     ]
    },
    {
     "ename": "ValueError",
     "evalue": "invalid literal for int() with base 10: '3.8'",
     "output_type": "error",
     "traceback": [
      "\u001b[1;31m---------------------------------------------------------------------------\u001b[0m",
      "\u001b[1;31mValueError\u001b[0m                                Traceback (most recent call last)",
      "\u001b[1;32m<ipython-input-2-bacbc1a13771>\u001b[0m in \u001b[0;36m<module>\u001b[1;34m\u001b[0m\n\u001b[0;32m      6\u001b[0m \u001b[0mc\u001b[0m \u001b[1;33m=\u001b[0m \u001b[0mint\u001b[0m\u001b[1;33m(\u001b[0m\u001b[1;34m'3'\u001b[0m\u001b[1;33m)\u001b[0m\u001b[1;33m\u001b[0m\u001b[0m\n\u001b[0;32m      7\u001b[0m \u001b[0mprint\u001b[0m\u001b[1;33m(\u001b[0m\u001b[0mc\u001b[0m\u001b[1;33m,\u001b[0m \u001b[0mtype\u001b[0m\u001b[1;33m(\u001b[0m\u001b[0mc\u001b[0m\u001b[1;33m)\u001b[0m\u001b[1;33m)\u001b[0m\u001b[1;33m\u001b[0m\u001b[0m\n\u001b[1;32m----> 8\u001b[1;33m \u001b[0md\u001b[0m \u001b[1;33m=\u001b[0m \u001b[0mint\u001b[0m\u001b[1;33m(\u001b[0m\u001b[1;34m'3.8'\u001b[0m\u001b[1;33m)\u001b[0m\u001b[1;33m\u001b[0m\u001b[0m\n\u001b[0m\u001b[0;32m      9\u001b[0m \u001b[0mprint\u001b[0m\u001b[1;33m(\u001b[0m\u001b[0md\u001b[0m\u001b[1;33m,\u001b[0m \u001b[0mtype\u001b[0m\u001b[1;33m(\u001b[0m\u001b[0md\u001b[0m\u001b[1;33m)\u001b[0m\u001b[1;33m)\u001b[0m\u001b[1;33m\u001b[0m\u001b[0m\n",
      "\u001b[1;31mValueError\u001b[0m: invalid literal for int() with base 10: '3.8'"
     ]
    }
   ],
   "source": [
    "#casting\n",
    "a = str(3)\n",
    "print(a, type(a))\n",
    "b = int(3.8)\n",
    "print(b, type(b))\n",
    "c = int('3')\n",
    "print(c, type(c))\n",
    "d = int('3.8')\n",
    "print(d, type(d))"
   ]
  },
  {
   "cell_type": "markdown",
   "metadata": {},
   "source": [
    "### list"
   ]
  },
  {
   "cell_type": "code",
   "execution_count": 3,
   "metadata": {},
   "outputs": [
    {
     "name": "stdout",
     "output_type": "stream",
     "text": [
      "original list [1, 1, 2, 3, 4, 5]\n",
      "slice list : [2, 3, 4]\n",
      "list after append: [1, 1, 2, 3, 4, 5, [111, 222]]\n",
      "list after extend : [1, 1, 2, 3, 4, 5, [111, 222], 111, 222]\n",
      "list after insert : [1, 1, 2, 8, 3, 4, 5, [111, 222], 111, 222]\n",
      "list after remove : [1, 1, 2, 8, 4, 5, [111, 222], 111, 222]\n",
      "pop element : 222\n",
      "list after pop : [1, 1, 2, 8, 4, 5, [111, 222], 111]\n",
      "index of the selected element : 3\n",
      "count of the selected element : 2\n",
      "length of list : 8\n"
     ]
    }
   ],
   "source": [
    "ex_list = [1, 1, 2, 3, 4, 5]\n",
    "print('original list', ex_list)\n",
    "#slice\n",
    "print('slice list :', ex_list[2:-1])\n",
    "#append\n",
    "ex_list.append([111,222])\n",
    "print('list after append:', ex_list)\n",
    "#extend\n",
    "ex_list.extend([111,222])\n",
    "print('list after extend :', ex_list)\n",
    "#insert\n",
    "ex_list.insert(3, 8)\n",
    "print('list after insert :', ex_list)\n",
    "#remove\n",
    "ex_list.remove(3)\n",
    "print('list after remove :', ex_list)\n",
    "#pop\n",
    "print('pop element :', ex_list.pop())\n",
    "print('list after pop :', ex_list)\n",
    "#index of a element\n",
    "print('index of the selected element :', ex_list.index(8))\n",
    "#count of a element\n",
    "print('count of the selected element :', ex_list.count(1))\n",
    "#len\n",
    "print('length of list :', len(ex_list))"
   ]
  },
  {
   "cell_type": "markdown",
   "metadata": {},
   "source": [
    "### tuple\n",
    "```\n",
    "除了索引啥都不能做的list\n",
    "為何存在 :\n",
    "  1. 操作速度較快\n",
    "  2. 防寫\n",
    "```"
   ]
  },
  {
   "cell_type": "code",
   "execution_count": 4,
   "metadata": {},
   "outputs": [
    {
     "name": "stdout",
     "output_type": "stream",
     "text": [
      "slice tuple (3, 4)\n"
     ]
    },
    {
     "ename": "AttributeError",
     "evalue": "'tuple' object has no attribute 'append'",
     "output_type": "error",
     "traceback": [
      "\u001b[1;31m---------------------------------------------------------------------------\u001b[0m",
      "\u001b[1;31mAttributeError\u001b[0m                            Traceback (most recent call last)",
      "\u001b[1;32m<ipython-input-4-7bbbb13fce54>\u001b[0m in \u001b[0;36m<module>\u001b[1;34m\u001b[0m\n\u001b[0;32m      1\u001b[0m \u001b[0mex_tuple\u001b[0m \u001b[1;33m=\u001b[0m \u001b[1;33m(\u001b[0m\u001b[1;36m1\u001b[0m\u001b[1;33m,\u001b[0m \u001b[1;36m2\u001b[0m\u001b[1;33m,\u001b[0m \u001b[1;36m3\u001b[0m\u001b[1;33m,\u001b[0m \u001b[1;36m4\u001b[0m\u001b[1;33m,\u001b[0m \u001b[1;36m5\u001b[0m\u001b[1;33m)\u001b[0m\u001b[1;33m\u001b[0m\u001b[0m\n\u001b[0;32m      2\u001b[0m \u001b[0mprint\u001b[0m\u001b[1;33m(\u001b[0m\u001b[1;34m'slice tuple'\u001b[0m\u001b[1;33m,\u001b[0m \u001b[0mex_tuple\u001b[0m\u001b[1;33m[\u001b[0m\u001b[1;36m2\u001b[0m\u001b[1;33m:\u001b[0m\u001b[1;36m4\u001b[0m\u001b[1;33m]\u001b[0m\u001b[1;33m)\u001b[0m\u001b[1;33m\u001b[0m\u001b[0m\n\u001b[1;32m----> 3\u001b[1;33m \u001b[0mex_tuple\u001b[0m\u001b[1;33m.\u001b[0m\u001b[0mappend\u001b[0m\u001b[1;33m(\u001b[0m\u001b[1;36m3\u001b[0m\u001b[1;33m)\u001b[0m\u001b[1;33m\u001b[0m\u001b[0m\n\u001b[0m",
      "\u001b[1;31mAttributeError\u001b[0m: 'tuple' object has no attribute 'append'"
     ]
    }
   ],
   "source": [
    "ex_tuple = (1, 2, 3, 4, 5)\n",
    "print('slice tuple', ex_tuple[2:4])\n",
    "ex_tuple.append(3)"
   ]
  },
  {
   "cell_type": "code",
   "execution_count": 5,
   "metadata": {},
   "outputs": [
    {
     "name": "stdout",
     "output_type": "stream",
     "text": [
      "size of list : 176\n",
      "size of tuple : 104\n"
     ]
    }
   ],
   "source": [
    "print('size of list :', list(range(10)).__sizeof__())\n",
    "print('size of tuple :', tuple(range(10)).__sizeof__())"
   ]
  },
  {
   "cell_type": "markdown",
   "metadata": {},
   "source": [
    "### set \n",
    "```\n",
    "和數學的集合一樣，元素不會重複\n",
    "```"
   ]
  },
  {
   "cell_type": "code",
   "execution_count": 6,
   "metadata": {},
   "outputs": [
    {
     "name": "stdout",
     "output_type": "stream",
     "text": [
      "{1, 2, 3, 4}\n"
     ]
    }
   ],
   "source": [
    "ex_set = {1, 1, 2, 4, 3, 2, 4}\n",
    "print(ex_set)"
   ]
  },
  {
   "cell_type": "code",
   "execution_count": 7,
   "metadata": {},
   "outputs": [
    {
     "name": "stdout",
     "output_type": "stream",
     "text": [
      "set a :  {0, 1, 2, 3, 4, 5, 6, 7, 8, 9}\n",
      "set b :  {0, 2, 4, 6, 8, 10, 12, 14, 16, 18}\n",
      "======================================================================\n",
      "intersection of a and b : {0, 2, 4, 6, 8}\n",
      "union of a and b : {0, 1, 2, 3, 4, 5, 6, 7, 8, 9, 10, 12, 14, 16, 18}\n",
      "difference of a and b : {1, 3, 5, 7, 9}\n",
      "symmetric_difference of a and b : {1, 3, 5, 7, 9, 10, 12, 14, 16, 18}\n"
     ]
    }
   ],
   "source": [
    "ex_set_a = set(i for i in range(10))\n",
    "ex_set_b = set(2*i for i in range(10))\n",
    "print('set a : ', ex_set_a)\n",
    "print('set b : ', ex_set_b)\n",
    "print('='*70)\n",
    "##交集\n",
    "print('intersection of a and b :', ex_set_a & ex_set_b)\n",
    "##聯集\n",
    "print('union of a and b :', ex_set_a | ex_set_b)\n",
    "##差集\n",
    "print('difference of a and b :', ex_set_a - ex_set_b)\n",
    "##對稱差\n",
    "print('symmetric_difference of a and b :', ex_set_a ^ ex_set_b)"
   ]
  },
  {
   "cell_type": "code",
   "execution_count": 8,
   "metadata": {},
   "outputs": [],
   "source": [
    "from time import clock"
   ]
  },
  {
   "cell_type": "code",
   "execution_count": 9,
   "metadata": {},
   "outputs": [
    {
     "name": "stdout",
     "output_type": "stream",
     "text": [
      "[0, 2, 4, 6, 8, 10, 12, 14, 16, 18, 20, 22, 24, 26, 28, 30, 32, 34, 36, 38, 40, 42, 44, 46, 48]\n",
      "time pass (list) : 0.00021046127943227146\n",
      "====================================================================================================\n",
      "[0, 2, 4, 6, 8, 10, 12, 14, 16, 18, 20, 22, 24, 26, 28, 30, 32, 34, 36, 38, 40, 42, 44, 46, 48]\n",
      "time pass (set) : 0.00016287159441444793\n"
     ]
    }
   ],
   "source": [
    "compare_listA = list(i for i in range(50))\n",
    "compare_listB = list(2*i for i in range(50))\n",
    "\n",
    "#method1\n",
    "time_1 = clock()\n",
    "print([i for i in compare_listA if i in compare_listB])\n",
    "print('time pass (list) :', clock() - time_1)\n",
    "print('='*100)\n",
    "#method2\n",
    "time_2 = clock()\n",
    "print(list(set(compare_listA) & set(compare_listB) ))\n",
    "print('time pass (set) :', clock() - time_2)"
   ]
  },
  {
   "cell_type": "markdown",
   "metadata": {},
   "source": [
    "### dict \n",
    "```\n",
    "形如{key: value} \n",
    "一個key 對應一個value , value 可重複 key 不行, \n",
    "value 可以是任何資料形式, key 只能是不可變的 \n",
    "ex : int, float, str, tuple \n",
    "```"
   ]
  },
  {
   "cell_type": "code",
   "execution_count": 10,
   "metadata": {},
   "outputs": [
    {
     "name": "stdout",
     "output_type": "stream",
     "text": [
      "{1: [1, 2, 3], '2': 'AAA', (1, 2): (5, 5, 5), 3.2: 777}\n",
      "keys of dict : dict_keys([1, '2', (1, 2), 3.2]) \n",
      "values of dict : dict_values([[1, 2, 3], 'AAA', (5, 5, 5), 777])\n",
      "(5, 5, 5)\n"
     ]
    }
   ],
   "source": [
    "ex_dict = {1:[1, 2, 3], '2':'AAA', (1,2): (5,5,5), 3.2:777}\n",
    "print(ex_dict)\n",
    "print('keys of dict :', ex_dict.keys(), '\\nvalues of dict :', ex_dict.values())\n",
    "print(ex_dict[(1, 2)])"
   ]
  },
  {
   "cell_type": "code",
   "execution_count": 11,
   "metadata": {},
   "outputs": [
    {
     "name": "stdout",
     "output_type": "stream",
     "text": [
      "['貓', '狗', '狗', '其他']\n"
     ]
    }
   ],
   "source": [
    "#利用dict的映射性質\n",
    "map_dict = {'柴犬':'狗', '拉不拉多':'狗', '波斯貓':'貓', '白貓':'貓'}\n",
    "animals = ['白貓', '柴犬', '拉不拉多', '孟加拉虎']\n",
    "print([map_dict.get(animal, '其他') for animal in animals])"
   ]
  },
  {
   "cell_type": "code",
   "execution_count": 12,
   "metadata": {},
   "outputs": [
    {
     "name": "stdout",
     "output_type": "stream",
     "text": [
      "['貓', '狗', '狗', '其他']\n"
     ]
    }
   ],
   "source": [
    "map_dict2 = dict.fromkeys(['柴犬', '拉不拉多'], '狗')\n",
    "map_dict2.update(dict.fromkeys(['波斯貓', '白貓'], '貓'))\n",
    "print([map_dict2.get(animal, '其他') for animal in animals])"
   ]
  },
  {
   "cell_type": "markdown",
   "metadata": {},
   "source": [
    "# 變數指派"
   ]
  },
  {
   "cell_type": "code",
   "execution_count": 13,
   "metadata": {},
   "outputs": [
    {
     "name": "stdout",
     "output_type": "stream",
     "text": [
      "[0, 1, 2, 3, 4, 5, 6, 7, 8, 9]\n",
      "========================================\n",
      "After modifying list1\n",
      "list1 : [999, 1, 2, 3, 4, 5, 6, 7, 8, 9]\n",
      "A : [999, 1, 2, 3, 4, 5, 6, 7, 8, 9]\n"
     ]
    }
   ],
   "source": [
    "list1 = list(range(10))\n",
    "A = list1\n",
    "print(A)\n",
    "print('='*40)\n",
    "list1[0] = 999\n",
    "print('After modifying list1')\n",
    "print('list1 :', list1)\n",
    "print('A :', A)"
   ]
  },
  {
   "cell_type": "code",
   "execution_count": 14,
   "metadata": {},
   "outputs": [
    {
     "name": "stdout",
     "output_type": "stream",
     "text": [
      "[0, 1, 2, 3, 4, 5, 6, 7, 8, 9]\n",
      "========================================\n",
      "After modifying list2\n",
      "list2 : [999, 1, 2, 3, 4, 5, 6, 7, 8, 9]\n",
      "B : [0, 1, 2, 3, 4, 5, 6, 7, 8, 9]\n"
     ]
    }
   ],
   "source": [
    "list2 = list(range(10))\n",
    "B = list2.copy()\n",
    "print(B)\n",
    "print('='*40)\n",
    "list2[0] = 999\n",
    "print('After modifying list2')\n",
    "print('list2 :', list2)\n",
    "print('B :', B)"
   ]
  },
  {
   "cell_type": "code",
   "execution_count": 15,
   "metadata": {},
   "outputs": [
    {
     "name": "stdout",
     "output_type": "stream",
     "text": [
      "id of list1 1669842284296\n",
      "id of A 1669842284296\n",
      "Is list1 equal to A ? True\n",
      "==============================\n",
      "id of list2 1669842283272\n",
      "id of B 1669841196424\n",
      "Is list2 equal to B ? False\n"
     ]
    }
   ],
   "source": [
    "print('id of list1', id(list1))\n",
    "print('id of A', id(A))\n",
    "print('Is list1 equal to A ?', id(list1)==id(A))\n",
    "print('='*30)\n",
    "print('id of list2', id(list2))\n",
    "print('id of B', id(B))\n",
    "print('Is list2 equal to B ?', id(list2)==id(B))"
   ]
  },
  {
   "cell_type": "markdown",
   "metadata": {},
   "source": [
    "# 格式化輸出{} .format"
   ]
  },
  {
   "cell_type": "code",
   "execution_count": 16,
   "metadata": {},
   "outputs": [
    {
     "name": "stdout",
     "output_type": "stream",
     "text": [
      "The accuracy of predicting cat is 0.33 \n"
     ]
    }
   ],
   "source": [
    "#第一種\n",
    "print('The accuracy of predicting %s is %.2f '%('cat', 0.3255))"
   ]
  },
  {
   "cell_type": "code",
   "execution_count": 17,
   "metadata": {},
   "outputs": [
    {
     "name": "stdout",
     "output_type": "stream",
     "text": [
      "The accuracy of predicting cat is 0.33 \n"
     ]
    }
   ],
   "source": [
    "#第二種\n",
    "print('The accuracy of predicting {0} is {1:.2f} '.format('cat', 0.3255))"
   ]
  },
  {
   "cell_type": "markdown",
   "metadata": {},
   "source": [
    "### 比較"
   ]
  },
  {
   "cell_type": "code",
   "execution_count": 18,
   "metadata": {},
   "outputs": [
    {
     "ename": "ValueError",
     "evalue": "incomplete format",
     "output_type": "error",
     "traceback": [
      "\u001b[1;31m---------------------------------------------------------------------------\u001b[0m",
      "\u001b[1;31mValueError\u001b[0m                                Traceback (most recent call last)",
      "\u001b[1;32m<ipython-input-18-4d63de024d15>\u001b[0m in \u001b[0;36m<module>\u001b[1;34m\u001b[0m\n\u001b[1;32m----> 1\u001b[1;33m \u001b[0mprint\u001b[0m\u001b[1;33m(\u001b[0m\u001b[1;34m'The accuracy of predicting %s is %.2f  % '\u001b[0m\u001b[1;33m%\u001b[0m\u001b[1;33m(\u001b[0m\u001b[1;34m'cat'\u001b[0m\u001b[1;33m,\u001b[0m \u001b[1;36m32.55\u001b[0m\u001b[1;33m)\u001b[0m\u001b[1;33m)\u001b[0m\u001b[1;33m\u001b[0m\u001b[0m\n\u001b[0m",
      "\u001b[1;31mValueError\u001b[0m: incomplete format"
     ]
    }
   ],
   "source": [
    "print('The accuracy of predicting %s is %.2f  % '%('cat', 32.55))"
   ]
  },
  {
   "cell_type": "code",
   "execution_count": 19,
   "metadata": {},
   "outputs": [
    {
     "name": "stdout",
     "output_type": "stream",
     "text": [
      "The accuracy of predicting cat is 32.55 % \n"
     ]
    }
   ],
   "source": [
    "print('The accuracy of predicting {0} is {1:.2f} % '.format('cat', 32.55))"
   ]
  },
  {
   "cell_type": "markdown",
   "metadata": {},
   "source": [
    "# 動態變數"
   ]
  },
  {
   "cell_type": "code",
   "execution_count": 20,
   "metadata": {},
   "outputs": [
    {
     "name": "stdout",
     "output_type": "stream",
     "text": [
      "mon_1 :  [1, 0, 0, 0, 0, 0, 0, 0, 0, 0, 0, 0]\n",
      "mon_2 :  [0, 1, 0, 0, 0, 0, 0, 0, 0, 0, 0, 0]\n",
      "mon_3 :  [0, 0, 1, 0, 0, 0, 0, 0, 0, 0, 0, 0]\n",
      "mon_4 :  [0, 0, 0, 1, 0, 0, 0, 0, 0, 0, 0, 0]\n",
      "mon_5 :  [0, 0, 0, 0, 1, 0, 0, 0, 0, 0, 0, 0]\n",
      "mon_6 :  [0, 0, 0, 0, 0, 1, 0, 0, 0, 0, 0, 0]\n",
      "mon_7 :  [0, 0, 0, 0, 0, 0, 1, 0, 0, 0, 0, 0]\n",
      "mon_8 :  [0, 0, 0, 0, 0, 0, 0, 1, 0, 0, 0, 0]\n",
      "mon_9 :  [0, 0, 0, 0, 0, 0, 0, 0, 1, 0, 0, 0]\n",
      "mon_10 :  [0, 0, 0, 0, 0, 0, 0, 0, 0, 1, 0, 0]\n",
      "mon_11 :  [0, 0, 0, 0, 0, 0, 0, 0, 0, 0, 1, 0]\n",
      "mon_12 :  [0, 0, 0, 0, 0, 0, 0, 0, 0, 0, 0, 1]\n"
     ]
    }
   ],
   "source": [
    "zeros = [0]*12\n",
    "for mon in range(12):\n",
    "    tmp = zeros.copy()\n",
    "    tmp[mon] = 1\n",
    "    locals()['mon_%d'%(mon+1)] = tmp\n",
    "    print('mon_%d : '%(mon+1), locals()['mon_%d'%(mon+1)])"
   ]
  },
  {
   "cell_type": "code",
   "execution_count": 21,
   "metadata": {},
   "outputs": [
    {
     "ename": "KeyError",
     "evalue": "'mon_1'",
     "output_type": "error",
     "traceback": [
      "\u001b[1;31m---------------------------------------------------------------------------\u001b[0m",
      "\u001b[1;31mKeyError\u001b[0m                                  Traceback (most recent call last)",
      "\u001b[1;32m<ipython-input-21-6d8b34726d12>\u001b[0m in \u001b[0;36m<module>\u001b[1;34m\u001b[0m\n\u001b[1;32m----> 1\u001b[1;33m \u001b[1;33m[\u001b[0m\u001b[0mlocals\u001b[0m\u001b[1;33m(\u001b[0m\u001b[1;33m)\u001b[0m\u001b[1;33m[\u001b[0m\u001b[1;34m'mon_%d'\u001b[0m\u001b[1;33m%\u001b[0m\u001b[1;33m(\u001b[0m\u001b[0mmon\u001b[0m\u001b[1;33m+\u001b[0m\u001b[1;36m1\u001b[0m\u001b[1;33m)\u001b[0m\u001b[1;33m]\u001b[0m\u001b[1;33m[\u001b[0m\u001b[1;33m:\u001b[0m\u001b[1;36m3\u001b[0m\u001b[1;33m]\u001b[0m \u001b[1;32mfor\u001b[0m \u001b[0mmon\u001b[0m \u001b[1;32min\u001b[0m \u001b[0mrange\u001b[0m\u001b[1;33m(\u001b[0m\u001b[1;36m10\u001b[0m\u001b[1;33m)\u001b[0m\u001b[1;33m]\u001b[0m\u001b[1;33m\u001b[0m\u001b[0m\n\u001b[0m",
      "\u001b[1;32m<ipython-input-21-6d8b34726d12>\u001b[0m in \u001b[0;36m<listcomp>\u001b[1;34m(.0)\u001b[0m\n\u001b[1;32m----> 1\u001b[1;33m \u001b[1;33m[\u001b[0m\u001b[0mlocals\u001b[0m\u001b[1;33m(\u001b[0m\u001b[1;33m)\u001b[0m\u001b[1;33m[\u001b[0m\u001b[1;34m'mon_%d'\u001b[0m\u001b[1;33m%\u001b[0m\u001b[1;33m(\u001b[0m\u001b[0mmon\u001b[0m\u001b[1;33m+\u001b[0m\u001b[1;36m1\u001b[0m\u001b[1;33m)\u001b[0m\u001b[1;33m]\u001b[0m\u001b[1;33m[\u001b[0m\u001b[1;33m:\u001b[0m\u001b[1;36m3\u001b[0m\u001b[1;33m]\u001b[0m \u001b[1;32mfor\u001b[0m \u001b[0mmon\u001b[0m \u001b[1;32min\u001b[0m \u001b[0mrange\u001b[0m\u001b[1;33m(\u001b[0m\u001b[1;36m10\u001b[0m\u001b[1;33m)\u001b[0m\u001b[1;33m]\u001b[0m\u001b[1;33m\u001b[0m\u001b[0m\n\u001b[0m",
      "\u001b[1;31mKeyError\u001b[0m: 'mon_1'"
     ]
    }
   ],
   "source": [
    "[locals()['mon_%d'%(mon+1)][:3] for mon in range(10)]"
   ]
  },
  {
   "cell_type": "code",
   "execution_count": 22,
   "metadata": {},
   "outputs": [
    {
     "name": "stdout",
     "output_type": "stream",
     "text": [
      "mon_1 :  [1, 0, 0, 0, 0, 0, 0, 0, 0, 0, 0, 0]\n",
      "mon_2 :  [0, 1, 0, 0, 0, 0, 0, 0, 0, 0, 0, 0]\n",
      "mon_3 :  [0, 0, 1, 0, 0, 0, 0, 0, 0, 0, 0, 0]\n",
      "mon_4 :  [0, 0, 0, 1, 0, 0, 0, 0, 0, 0, 0, 0]\n",
      "mon_5 :  [0, 0, 0, 0, 1, 0, 0, 0, 0, 0, 0, 0]\n",
      "mon_6 :  [0, 0, 0, 0, 0, 1, 0, 0, 0, 0, 0, 0]\n",
      "mon_7 :  [0, 0, 0, 0, 0, 0, 1, 0, 0, 0, 0, 0]\n",
      "mon_8 :  [0, 0, 0, 0, 0, 0, 0, 1, 0, 0, 0, 0]\n",
      "mon_9 :  [0, 0, 0, 0, 0, 0, 0, 0, 1, 0, 0, 0]\n",
      "mon_10 :  [0, 0, 0, 0, 0, 0, 0, 0, 0, 1, 0, 0]\n",
      "mon_11 :  [0, 0, 0, 0, 0, 0, 0, 0, 0, 0, 1, 0]\n",
      "mon_12 :  [0, 0, 0, 0, 0, 0, 0, 0, 0, 0, 0, 1]\n"
     ]
    }
   ],
   "source": [
    "zeros = [0]*12\n",
    "for mon in range(12):\n",
    "    tmp = zeros.copy()\n",
    "    tmp[mon] = 1\n",
    "    globals()['mon_%d'%(mon+1)] = tmp\n",
    "    print('mon_%d : '%(mon+1), globals()['mon_%d'%(mon+1)])"
   ]
  },
  {
   "cell_type": "code",
   "execution_count": 23,
   "metadata": {},
   "outputs": [
    {
     "data": {
      "text/plain": [
       "[[1, 0, 0],\n",
       " [0, 1, 0],\n",
       " [0, 0, 1],\n",
       " [0, 0, 0],\n",
       " [0, 0, 0],\n",
       " [0, 0, 0],\n",
       " [0, 0, 0],\n",
       " [0, 0, 0],\n",
       " [0, 0, 0],\n",
       " [0, 0, 0]]"
      ]
     },
     "execution_count": 23,
     "metadata": {},
     "output_type": "execute_result"
    }
   ],
   "source": [
    "[globals()['mon_%d'%(mon+1)][:3] for mon in range(10)]"
   ]
  }
 ],
 "metadata": {
  "kernelspec": {
   "display_name": "Python 3",
   "language": "python",
   "name": "python3"
  },
  "language_info": {
   "codemirror_mode": {
    "name": "ipython",
    "version": 3
   },
   "file_extension": ".py",
   "mimetype": "text/x-python",
   "name": "python",
   "nbconvert_exporter": "python",
   "pygments_lexer": "ipython3",
   "version": "3.6.5"
  }
 },
 "nbformat": 4,
 "nbformat_minor": 2
}
